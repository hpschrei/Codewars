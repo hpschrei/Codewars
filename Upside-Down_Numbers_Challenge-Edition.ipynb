{
 "cells": [
  {
   "cell_type": "code",
   "execution_count": null,
   "metadata": {},
   "outputs": [],
   "source": [
    "SYMMETRIC_DIGITS = {0, 1, 8}\n",
    "GENERAL_DIGITS = {0, 1, 6, 8, 9}\n",
    "START_DIGITS = {1, 6, 8, 9}\n",
    "\n",
    "def upsidedown(x):\n",
    "    x = list(x)\n",
    "    if len(x) % 2:\n",
    "        i = x[len(x)//2]\n",
    "        sum([int(i) <= d for d in SYMMETRIC_DIGITS])\n",
    "        \n",
    "        for j in x[:len(x)//2][::-1]:\n",
    "            \n",
    "        \n",
    "    \n",
    "    "
   ]
  },
  {
   "cell_type": "code",
   "execution_count": 1,
   "metadata": {},
   "outputs": [],
   "source": [
    "MIDDLE_DIGITS = {0, 1, 8}\n",
    "GENERAL_DIGITS = {0, 1, 6, 8, 9}\n",
    "START_DIGITS = {1, 6, 8, 9}\n",
    "\n",
    "MIRROR_DIGITS = {'0': '0', '1': '1', '6': '9', '8': '8', '9': '6'}"
   ]
  },
  {
   "cell_type": "code",
   "execution_count": 113,
   "metadata": {},
   "outputs": [],
   "source": [
    "x = list('700')"
   ]
  },
  {
   "cell_type": "code",
   "execution_count": 9,
   "metadata": {},
   "outputs": [],
   "source": [
    "i = x[len(x)//2]"
   ]
  },
  {
   "cell_type": "code",
   "execution_count": 10,
   "metadata": {},
   "outputs": [
    {
     "data": {
      "text/plain": [
       "3"
      ]
     },
     "execution_count": 10,
     "metadata": {},
     "output_type": "execute_result"
    }
   ],
   "source": [
    "sum([int(i) <= d for d in MIDDLE_DIGITS])"
   ]
  },
  {
   "cell_type": "code",
   "execution_count": 12,
   "metadata": {},
   "outputs": [
    {
     "data": {
      "text/plain": [
       "['7']"
      ]
     },
     "execution_count": 12,
     "metadata": {},
     "output_type": "execute_result"
    }
   ],
   "source": [
    "x[:len(x)//2][::-1]"
   ]
  },
  {
   "cell_type": "code",
   "execution_count": 13,
   "metadata": {},
   "outputs": [
    {
     "data": {
      "text/plain": [
       "(100, 999)"
      ]
     },
     "execution_count": 13,
     "metadata": {},
     "output_type": "execute_result"
    }
   ],
   "source": [
    "700, 999"
   ]
  },
  {
   "cell_type": "code",
   "execution_count": null,
   "metadata": {},
   "outputs": [],
   "source": [
    "4*3*5^((n-1)/2)"
   ]
  },
  {
   "cell_type": "code",
   "execution_count": 2,
   "metadata": {},
   "outputs": [],
   "source": [
    "def create_mirror_list(x):\n",
    "    try:\n",
    "        y = x[::-1]\n",
    "        y = [MIRROR_DIGITS[i] for i in y]\n",
    "    except KeyError:\n",
    "        'Digits are mirrored that are not supposed to be.'\n",
    "    return(y)"
   ]
  },
  {
   "cell_type": "code",
   "execution_count": 3,
   "metadata": {},
   "outputs": [],
   "source": [
    "def get_next_digit(d, p, mode):\n",
    "    if p == 's':\n",
    "        available_digits = START_DIGITS\n",
    "    if p == 'g':\n",
    "        available_digits = GENERAL_DIGITS\n",
    "    if p == 'm':\n",
    "        available_digits = MIDDLE_DIGITS\n",
    "    \n",
    "    try:\n",
    "        if mode == '>':\n",
    "            d = min([i for i in available_digits if i > int(d)])\n",
    "        elif mode == '>=':\n",
    "            d = min([i for i in available_digits if i >= int(d)])\n",
    "    except ValueError:\n",
    "        d = min(available_digits)\n",
    "        \n",
    "    return(str(d))"
   ]
  },
  {
   "cell_type": "code",
   "execution_count": 9,
   "metadata": {},
   "outputs": [],
   "source": [
    "def get_previous_digit(d, p, mode):\n",
    "    if p == 's':\n",
    "        available_digits = START_DIGITS\n",
    "    if p == 'g':\n",
    "        available_digits = GENERAL_DIGITS\n",
    "    if p == 'm':\n",
    "        available_digits = MIDDLE_DIGITS\n",
    "    \n",
    "    try:\n",
    "        if mode == '<':\n",
    "            d = max([i for i in available_digits if i < int(d)])\n",
    "        elif mode == '<=':\n",
    "            d = max([i for i in available_digits if i <= int(d)])\n",
    "    except ValueError:\n",
    "        d = max(available_digits)\n",
    "        \n",
    "    return(str(d))"
   ]
  },
  {
   "cell_type": "code",
   "execution_count": 4,
   "metadata": {},
   "outputs": [
    {
     "data": {
      "text/plain": [
       "{0, 1, 6, 8, 9}"
      ]
     },
     "execution_count": 4,
     "metadata": {},
     "output_type": "execute_result"
    }
   ],
   "source": [
    "GENERAL_DIGITS"
   ]
  },
  {
   "cell_type": "code",
   "execution_count": 5,
   "metadata": {},
   "outputs": [],
   "source": [
    "def find_next_upsidedown_number(x):\n",
    "    x = list(x)\n",
    "    \n",
    "    first_half = x[:len(x)//2]\n",
    "    mirror_first_half = create_mirror_list(first_half)\n",
    "\n",
    "    if len(x) % 2:\n",
    "        first_half_and_middle = x[:len(x)//2+1]\n",
    "        second_half = x[len(x)//2+1:]\n",
    "        number_length_parity = 'odd'\n",
    "    else:\n",
    "        first_half_and_middle = x[:len(x)//2]\n",
    "        second_half = x[len(x)//2:]\n",
    "        number_length_parity = 'even'\n",
    "        \n",
    "    if int(''.join(second_half)) > int(''.join(mirror_first_half)):\n",
    "        r = create_next_upsidedown_with_carry(first_half_and_middle, 'carry_forward', number_length_parity)\n",
    "    else:\n",
    "        r = create_next_upsidedown_with_carry(first_half_and_middle, 'no_carry', number_length_parity)\n",
    "            \n",
    "    return(r)        "
   ]
  },
  {
   "cell_type": "code",
   "execution_count": 6,
   "metadata": {},
   "outputs": [],
   "source": [
    "def create_next_upsidedown_with_carry(first_half_and_middle, mode, number_length_parity):\n",
    "    next_first_half_and_middle = []\n",
    "\n",
    "    iter_len = len(first_half_and_middle) - 1\n",
    "    \n",
    "    for j in range(iter_len, -1, -1):\n",
    "        if mode == 'carry_forward' or mode == 'carry_one_more':\n",
    "            next_digit_comparison = '>'\n",
    "        else:\n",
    "            next_digit_comparison = '>='\n",
    "       \n",
    "        if j == 0:\n",
    "            d = get_next_digit(first_half_and_middle[j], 's', next_digit_comparison)\n",
    "            \n",
    "            if mode == 'carry_forward' or mode == 'carry_one_more':\n",
    "                d = '0'\n",
    "        elif j == iter_len and number_length_parity == 'odd':\n",
    "            d = get_next_digit(first_half_and_middle[j], 'm', next_digit_comparison)\n",
    "        else:\n",
    "            d = get_next_digit(first_half_and_middle[j], 'g', next_digit_comparison)\n",
    "        \n",
    "        \n",
    "        if mode == 'carry_forward' or mode == 'carry_one_more':\n",
    "            if d != '0' and mode == 'carry_forward':\n",
    "                mode = 'carry_one_more'\n",
    "\n",
    "            if mode == 'carry_one_more':\n",
    "                mode = 'no_carry'\n",
    "        \n",
    "        next_first_half_and_middle.append(d)\n",
    "        \n",
    "        if (mode == 'carry_forward' or mode == 'carry_one_more') and d == '0' and j == 0:\n",
    "            next_first_half_and_middle.append('1')\n",
    "            \n",
    "    next_first_half_and_middle = next_first_half_and_middle[::-1]\n",
    "\n",
    "    if number_length_parity == 'odd':\n",
    "        full_next_upsidedown = next_first_half_and_middle + create_mirror_list(next_first_half_and_middle[:-1])\n",
    "    elif number_length_parity == 'even':\n",
    "        full_next_upsidedown = next_first_half_and_middle + create_mirror_list(next_first_half_and_middle)\n",
    "\n",
    "    return(full_next_upsidedown)"
   ]
  },
  {
   "cell_type": "code",
   "execution_count": null,
   "metadata": {},
   "outputs": [],
   "source": [
    "def create_previous_upsidedown_with_carry(first_half_and_middle, mode, number_length_parity):\n",
    "    previous_first_half_and_middle = []\n",
    "        \n",
    "    iter_len = len(first_half_and_middle) - 1\n",
    "        \n",
    "    for j in range(iter_len):\n",
    "        if mode == 'carry_forward' or mode == 'carry_one_more':\n",
    "            previous_digit_comparison = '<'\n",
    "        else:\n",
    "            previous_digit_comparison = '<='\n",
    "       \n",
    "        if j == 0:\n",
    "            d = get_previous_digit(first_half_and_middle[j], 's', previous_digit_comparison)\n",
    "            \n",
    "            if mode == 'carry_forward' or mode == 'carry_one_more':\n",
    "                d = '0'\n",
    "        elif j == iter_len and number_length_parity == 'odd':\n",
    "            d = get_next_digit(first_half_and_middle[j], 'm', next_digit_comparison)\n",
    "        else:\n",
    "            d = get_next_digit(first_half_and_middle[j], 'g', next_digit_comparison)\n",
    "        \n",
    "        \n",
    "        if mode == 'carry_forward' or mode == 'carry_one_more':\n",
    "            if d != '0' and mode == 'carry_forward':\n",
    "                mode = 'carry_one_more'\n",
    "\n",
    "            if mode == 'carry_one_more':\n",
    "                mode = 'no_carry'\n",
    "        \n",
    "        next_first_half_and_middle.append(d)\n",
    "        \n",
    "        if (mode == 'carry_forward' or mode == 'carry_one_more') and d == '0' and j == 0:\n",
    "            next_first_half_and_middle.append('1')\n",
    "            \n",
    "    next_first_half_and_middle = next_first_half_and_middle[::-1]\n",
    "\n",
    "    if number_length_parity == 'odd':\n",
    "        full_next_upsidedown = next_first_half_and_middle + create_mirror_list(next_first_half_and_middle[:-1])\n",
    "    elif number_length_parity == 'even':\n",
    "        full_next_upsidedown = next_first_half_and_middle + create_mirror_list(next_first_half_and_middle)\n",
    "\n",
    "    return(full_next_upsidedown)\n",
    "            \n"
   ]
  },
  {
   "cell_type": "code",
   "execution_count": 7,
   "metadata": {},
   "outputs": [],
   "source": [
    "x = '9987'"
   ]
  },
  {
   "cell_type": "code",
   "execution_count": 8,
   "metadata": {},
   "outputs": [
    {
     "data": {
      "text/plain": [
       "['1', '0', '0', '0', '0', '1']"
      ]
     },
     "execution_count": 8,
     "metadata": {},
     "output_type": "execute_result"
    }
   ],
   "source": [
    "find_next_upsidedown_number(x)"
   ]
  },
  {
   "cell_type": "code",
   "execution_count": 187,
   "metadata": {},
   "outputs": [],
   "source": [
    "def upsidedown(x, y):\n",
    "    "
   ]
  },
  {
   "cell_type": "code",
   "execution_count": 189,
   "metadata": {},
   "outputs": [
    {
     "data": {
      "text/plain": [
       "'7'"
      ]
     },
     "execution_count": 189,
     "metadata": {},
     "output_type": "execute_result"
    }
   ],
   "source": [
    "second_half"
   ]
  },
  {
   "cell_type": "code",
   "execution_count": 56,
   "metadata": {},
   "outputs": [],
   "source": [
    "        i = x[len(x)//2]\n",
    "        first_half = x[:len(x)//2]\n",
    "        second_half = x[len(x)//2+1:]\n",
    "        mirror_first_half = create_mirror_list(first_half)"
   ]
  },
  {
   "cell_type": "code",
   "execution_count": 57,
   "metadata": {},
   "outputs": [
    {
     "data": {
      "text/plain": [
       "'9'"
      ]
     },
     "execution_count": 57,
     "metadata": {},
     "output_type": "execute_result"
    }
   ],
   "source": [
    "i"
   ]
  },
  {
   "cell_type": "code",
   "execution_count": 62,
   "metadata": {},
   "outputs": [],
   "source": [
    "        first_half_and_middle = x[:len(x)//2+1]"
   ]
  },
  {
   "cell_type": "code",
   "execution_count": 70,
   "metadata": {},
   "outputs": [
    {
     "data": {
      "text/plain": [
       "['6', '9']"
      ]
     },
     "execution_count": 70,
     "metadata": {},
     "output_type": "execute_result"
    }
   ],
   "source": [
    "first_half_and_middle"
   ]
  },
  {
   "cell_type": "code",
   "execution_count": 76,
   "metadata": {},
   "outputs": [
    {
     "data": {
      "text/plain": [
       "['0', '8']"
      ]
     },
     "execution_count": 76,
     "metadata": {},
     "output_type": "execute_result"
    }
   ],
   "source": [
    "next_first_half_and_middle"
   ]
  },
  {
   "cell_type": "code",
   "execution_count": 74,
   "metadata": {},
   "outputs": [
    {
     "data": {
      "text/plain": [
       "[1, 0]"
      ]
     },
     "execution_count": 74,
     "metadata": {},
     "output_type": "execute_result"
    }
   ],
   "source": [
    "list(range(len(first_half_and_middle) - 1, -1, -1))"
   ]
  },
  {
   "cell_type": "code",
   "execution_count": 73,
   "metadata": {},
   "outputs": [
    {
     "data": {
      "text/plain": [
       "2"
      ]
     },
     "execution_count": 73,
     "metadata": {},
     "output_type": "execute_result"
    }
   ],
   "source": [
    "len(first_half_and_middle)"
   ]
  },
  {
   "cell_type": "code",
   "execution_count": 150,
   "metadata": {},
   "outputs": [
    {
     "data": {
      "text/plain": [
       "2"
      ]
     },
     "execution_count": 150,
     "metadata": {},
     "output_type": "execute_result"
    }
   ],
   "source": [
    "4//2"
   ]
  },
  {
   "cell_type": "code",
   "execution_count": null,
   "metadata": {},
   "outputs": [],
   "source": []
  }
 ],
 "metadata": {
  "kernelspec": {
   "display_name": "Python 3",
   "language": "python",
   "name": "python3"
  },
  "language_info": {
   "codemirror_mode": {
    "name": "ipython",
    "version": 3
   },
   "file_extension": ".py",
   "mimetype": "text/x-python",
   "name": "python",
   "nbconvert_exporter": "python",
   "pygments_lexer": "ipython3",
   "version": "3.7.4"
  }
 },
 "nbformat": 4,
 "nbformat_minor": 2
}
