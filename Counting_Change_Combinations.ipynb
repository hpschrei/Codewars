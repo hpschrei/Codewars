{
 "cells": [
  {
   "cell_type": "code",
   "execution_count": 15,
   "metadata": {},
   "outputs": [],
   "source": [
    "def count_change(money, coins): \n",
    "    # all money has exactly been used up, count this sequence of coins\n",
    "    if money == 0:\n",
    "        return 1\n",
    "    \n",
    "    # all available coins are greater than the current amount of money\n",
    "    if sum([coin > money for coin in coins]) == len(coins):\n",
    "        return 0    \n",
    "  \n",
    "    current_count = 0\n",
    "    for index, coin in enumerate(coins):\n",
    "        # calculate number of sequences recursively, remove previously considered coins\n",
    "        # in order to count unique sequences\n",
    "        res = count_change(money-coin, coins[index:])\n",
    "        current_count += res\n",
    "    return current_count"
   ]
  }
 ],
 "metadata": {
  "kernelspec": {
   "display_name": "Python 3",
   "language": "python",
   "name": "python3"
  },
  "language_info": {
   "codemirror_mode": {
    "name": "ipython",
    "version": 3
   },
   "file_extension": ".py",
   "mimetype": "text/x-python",
   "name": "python",
   "nbconvert_exporter": "python",
   "pygments_lexer": "ipython3",
   "version": "3.7.4"
  }
 },
 "nbformat": 4,
 "nbformat_minor": 2
}
